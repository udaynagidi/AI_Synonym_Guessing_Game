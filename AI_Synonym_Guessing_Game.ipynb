{
  "cells": [
    {
      "cell_type": "code",
      "execution_count": null,
      "metadata": {
        "colab": {
          "base_uri": "https://localhost:8080/"
        },
        "id": "Nm1_XjoK2iuC",
        "outputId": "62a997ea-34ca-487e-e117-871e92feaa4d"
      },
      "outputs": [
        {
          "name": "stdout",
          "output_type": "stream",
          "text": [
            "Requirement already satisfied: nltk in /usr/local/lib/python3.11/dist-packages (3.9.1)\n",
            "Requirement already satisfied: click in /usr/local/lib/python3.11/dist-packages (from nltk) (8.1.8)\n",
            "Requirement already satisfied: joblib in /usr/local/lib/python3.11/dist-packages (from nltk) (1.4.2)\n",
            "Requirement already satisfied: regex>=2021.8.3 in /usr/local/lib/python3.11/dist-packages (from nltk) (2024.11.6)\n",
            "Requirement already satisfied: tqdm in /usr/local/lib/python3.11/dist-packages (from nltk) (4.67.1)\n"
          ]
        },
        {
          "name": "stderr",
          "output_type": "stream",
          "text": [
            "[nltk_data] Downloading package wordnet to /root/nltk_data...\n",
            "[nltk_data]   Package wordnet is already up-to-date!\n",
            "[nltk_data] Downloading package omw-1.4 to /root/nltk_data...\n",
            "[nltk_data]   Package omw-1.4 is already up-to-date!\n"
          ]
        },
        {
          "data": {
            "text/plain": [
              "True"
            ]
          },
          "execution_count": 8,
          "metadata": {},
          "output_type": "execute_result"
        }
      ],
      "source": [
        "!pip install nltk\n",
        "import nltk\n",
        "nltk.download('wordnet')\n",
        "nltk.download('omw-1.4')"
      ]
    },
    {
      "cell_type": "code",
      "execution_count": null,
      "metadata": {
        "id": "cuN5vORg22cB"
      },
      "outputs": [],
      "source": [
        "\n",
        "import random\n",
        "import nltk\n",
        "from nltk.corpus import wordnet"
      ]
    },
    {
      "cell_type": "code",
      "execution_count": null,
      "metadata": {
        "colab": {
          "base_uri": "https://localhost:8080/"
        },
        "id": "qa9gij6W7S_w",
        "outputId": "2a0578cb-a997-4538-8a18-56f87be8359c"
      },
      "outputs": [
        {
          "name": "stderr",
          "output_type": "stream",
          "text": [
            "[nltk_data] Downloading package wordnet to /root/nltk_data...\n",
            "[nltk_data]   Package wordnet is already up-to-date!\n",
            "[nltk_data] Downloading package omw-1.4 to /root/nltk_data...\n",
            "[nltk_data]   Package omw-1.4 is already up-to-date!\n"
          ]
        },
        {
          "data": {
            "text/plain": [
              "True"
            ]
          },
          "execution_count": 10,
          "metadata": {},
          "output_type": "execute_result"
        }
      ],
      "source": [
        "nltk.download('wordnet')\n",
        "nltk.download('omw-1.4')"
      ]
    },
    {
      "cell_type": "code",
      "execution_count": null,
      "metadata": {
        "id": "WouTVh8_7Ylf"
      },
      "outputs": [],
      "source": [
        "def get_random_word():\n",
        "    \"\"\"Select a random word from WordNet\"\"\"\n",
        "    words = list(wordnet.words())\n",
        "    return random.choice(words)"
      ]
    },
    {
      "cell_type": "code",
      "execution_count": null,
      "metadata": {
        "id": "OXRzdHSR7bcJ"
      },
      "outputs": [],
      "source": [
        "def get_synonyms(word):\n",
        "    \"\"\"Get a list of synonyms for a word\"\"\"\n",
        "    synonyms = set()\n",
        "    for synset in wordnet.synsets(word):\n",
        "        for lemma in synset.lemmas():\n",
        "            synonyms.add(lemma.name().lower().replace('_', ' '))  # Convert to lowercase\n",
        "    return list(synonyms)\n"
      ]
    },
    {
      "cell_type": "code",
      "execution_count": null,
      "metadata": {
        "id": "_PMBF6Pclr18"
      },
      "outputs": [],
      "source": [
        "def play_synonym_game(rounds=5):\n",
        "    \"\"\"Main game function\"\"\"\n",
        "    print(\"\\n🎮 Welcome to the AI Synonym Guessing Game! 🎮\")\n",
        "    print(\"I'll give you a word, and you have to guess a synonym.\")\n",
        "    print(\"You get a point if your guess matches a synonym in AI's database!\\n\")\n",
        "\n",
        "    score = 0\n",
        "\n",
        "    for _ in range(rounds):\n",
        "        word = get_random_word()\n",
        "        synonyms = get_synonyms(word)\n",
        "\n",
        "        if not synonyms:\n",
        "            continue  # Skip words without synonyms\n",
        "\n",
        "        print(f\"\\n🔹 Word: {word.capitalize()}\")\n",
        "        guess = input(\"Enter a synonym: \").strip().lower()\n",
        "\n",
        "        if guess in synonyms:\n",
        "            print(\"✅ Correct! Well done!\")\n",
        "            score += 1\n",
        "        else:\n",
        "            print(f\"❌ Incorrect! Some correct answers: {', '.join(synonyms[:3])}\")\n",
        "\n",
        "    print(f\"\\n🎉 Game Over! You scored {score}/{rounds} points! 🎉\")\n"
      ]
    },
    {
      "cell_type": "code",
      "execution_count": null,
      "metadata": {
        "colab": {
          "background_save": true,
          "base_uri": "https://localhost:8080/"
        },
        "id": "DwnYsSuclutM",
        "outputId": "7735d586-fc93-4a9d-a9f7-02e9fb45d6e5"
      },
      "outputs": [
        {
          "metadata": {
            "tags": null
          },
          "name": "stdout",
          "output_type": "stream",
          "text": [
            "\n",
            "🎮 Welcome to the AI Synonym Guessing Game! 🎮\n",
            "I'll give you a word, and you have to guess a synonym.\n",
            "You get a point if your guess matches a synonym in AI's database!\n",
            "\n",
            "\n",
            "🔹 Word: Gagster\n"
          ]
        }
      ],
      "source": [
        "play_synonym_game()"
      ]
    }
  ],
  "metadata": {
    "colab": {
      "provenance": []
    },
    "kernelspec": {
      "display_name": "Python 3",
      "name": "python3"
    },
    "language_info": {
      "name": "python"
    }
  },
  "nbformat": 4,
  "nbformat_minor": 0
}